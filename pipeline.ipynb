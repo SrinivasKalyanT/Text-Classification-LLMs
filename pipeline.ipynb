{
 "cells": [
  {
   "cell_type": "code",
   "execution_count": 1,
   "metadata": {},
   "outputs": [
    {
     "name": "stdout",
     "output_type": "stream",
     "text": [
      "Cloning into 'transformers'...\n",
      "remote: Enumerating objects: 259603, done.\u001b[K\n",
      "remote: Counting objects: 100% (27/27), done.\u001b[K\n",
      "remote: Compressing objects: 100% (19/19), done.\u001b[K\n",
      "Receiving objects: 100% (259603/259603), 269.24 MiB | 3.00 MiB/s, done.\n",
      "remote: Total 259603 (delta 14), reused 9 (delta 7), pack-reused 259576 (from 2)\u001b[K\n",
      "Resolving deltas: 100% (191680/191680), done.\n"
     ]
    }
   ],
   "source": [
    "!git clone https://github.com/huggingface/transformers.git"
   ]
  },
  {
   "cell_type": "code",
   "execution_count": 2,
   "metadata": {},
   "outputs": [
    {
     "name": "stdout",
     "output_type": "stream",
     "text": [
      "Dataset partitioned successfully!\n"
     ]
    }
   ],
   "source": [
    "import pandas as pd\n",
    "from sklearn.model_selection import train_test_split\n",
    "\n",
    "# Load the CSV file\n",
    "file_path = \"/Users/srinivaskalyan/Documents/deployment/synthetic_data.csv\"  # Update with the actual path\n",
    "df = pd.read_csv(file_path)\n",
    "\n",
    "# Convert labels to integers\n",
    "label_mapping = {\"Classification\": 0, \"Segmentation\": 1, \"Both\": 2}\n",
    "df[\"Label\"] = df[\"Label\"].map(label_mapping)\n",
    "\n",
    "# Split dataset into train (80%) and validation (20%)\n",
    "train_df, val_df = train_test_split(df, test_size=0.2, random_state=42, stratify=df[\"Label\"])\n",
    "\n",
    "# Save the partitioned datasets\n",
    "train_df.to_csv(\"train.csv\", index=False)\n",
    "val_df.to_csv(\"val.csv\", index=False)\n",
    "\n",
    "print(\"Dataset partitioned successfully!\")\n"
   ]
  },
  {
   "cell_type": "code",
   "execution_count": null,
   "metadata": {},
   "outputs": [],
   "source": [
    "!python \"/Users/srinivaskalyan/Documents/deployment/transformers/examples/pytorch/text-classification/run_classification.py\" \\\n",
    "    --model_name_or_path \"google-bert/bert-base-uncased\" \\\n",
    "    --train_file \"/Users/srinivaskalyan/Documents/deployment/train.csv\" \\\n",
    "    --validation_file \"/Users/srinivaskalyan/Documents/deployment/val.csv\" \\\n",
    "    --text_column_name \"Text Instruction\" \\\n",
    "    --label_column_name \"Label\" \\\n",
    "    --shuffle_train_dataset \\\n",
    "    --metric_name accuracy \\\n",
    "    --do_train \\\n",
    "    --do_eval \\\n",
    "    --max_seq_length 512 \\\n",
    "    --per_device_train_batch_size 4 \\\n",
    "    --gradient_checkpointing \\\n",
    "    --fp16 \\\n",
    "    --learning_rate 2e-5 \\\n",
    "    --num_train_epochs 1 \\\n",
    "    --output_dir \"/Users/srinivaskalyan/Documents/deployment\" \\\n"
   ]
  },
  {
   "cell_type": "code",
   "execution_count": null,
   "metadata": {},
   "outputs": [],
   "source": [
    "from transformers import BertTokenizer, BertForSequenceClassification\n",
    "import torch\n",
    "\n",
    "# Path to the trained model and tokenizer\n",
    "model_path = \"/Users/srinivaskalyan/Documents/deployment/checkpoint-1400\"\n",
    "\n",
    "# Load the tokenizer and model from the checkpoint\n",
    "tokenizer = BertTokenizer.from_pretrained(model_path)\n",
    "model = BertForSequenceClassification.from_pretrained(model_path)\n",
    "\n",
    "# The sentence you want to classify\n",
    "sentence = \"Analyze the image and distinguish where the inflammation is.\"\n",
    "\n",
    "# Preprocess the sentence\n",
    "inputs = tokenizer(sentence, return_tensors=\"pt\", padding=True, truncation=True, max_length=512)\n",
    "\n",
    "# Run the model to get predictions\n",
    "with torch.no_grad():\n",
    "    outputs = model(**inputs)\n",
    "\n",
    "# Get the predicted class label (the index of the highest logit)\n",
    "predicted_class = torch.argmax(outputs.logits, dim=-1).item()\n",
    "\n",
    "# Print the result\n",
    "print(f\"Predicted class label: {predicted_class}\")\n"
   ]
  }
 ],
 "metadata": {
  "kernelspec": {
   "display_name": "rag_imp",
   "language": "python",
   "name": "python3"
  },
  "language_info": {
   "codemirror_mode": {
    "name": "ipython",
    "version": 3
   },
   "file_extension": ".py",
   "mimetype": "text/x-python",
   "name": "python",
   "nbconvert_exporter": "python",
   "pygments_lexer": "ipython3",
   "version": "3.10.16"
  }
 },
 "nbformat": 4,
 "nbformat_minor": 2
}
